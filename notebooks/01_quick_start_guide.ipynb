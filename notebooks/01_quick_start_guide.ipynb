{
 "cells": [
  {
   "cell_type": "markdown",
   "metadata": {},
   "source": [
    "# Crisis Network Analysis - Quick Start Guide\n",
    "\n",
    "This notebook demonstrates the basic usage of the Crisis Network Analysis framework.\n",
    "\n",
    "## Setup\n",
    "\n",
    "First, ensure you have installed all dependencies:\n",
    "```bash\n",
    "pip install -r requirements.txt\n",
    "```"
   ]
  },
  {
   "cell_type": "code",
   "execution_count": null,
   "metadata": {},
   "outputs": [],
   "source": [
    "# Import required libraries\n",
    "import sys\n",
    "from pathlib import Path\n",
    "\n",
    "# Add parent directory to path\n",
    "project_root = Path.cwd().parent\n",
    "sys.path.insert(0, str(project_root / 'src'))\n",
    "\n",
    "import pandas as pd\n",
    "import matplotlib.pyplot as plt\n",
    "import seaborn as sns\n",
    "\n",
    "# Set plotting style\n",
    "sns.set_style('whitegrid')\n",
    "plt.rcParams['figure.figsize'] = (12, 6)\n",
    "\n",
    "print(\"✅ Libraries imported successfully!\")"
   ]
  },
  {
   "cell_type": "markdown",
   "metadata": {},
   "source": [
    "## 1. Data Collection\n",
    "\n",
    "Collect data from Reddit using the WorkingRedditCollector."
   ]
  },
  {
   "cell_type": "code",
   "execution_count": null,
   "metadata": {},
   "outputs": [],
   "source": [
    "from collection.working_reddit_collector import WorkingRedditCollector\n",
    "from dotenv import load_dotenv\n",
    "import os\n",
    "\n",
    "# Load API credentials\n",
    "load_dotenv(project_root / 'config' / 'api_keys.env')\n",
    "\n",
    "# Initialize collector\n",
    "collector = WorkingRedditCollector(\n",
    "    client_id=os.getenv('REDDIT_CLIENT_ID'),\n",
    "    client_secret=os.getenv('REDDIT_CLIENT_SECRET'),\n",
    "    user_agent=os.getenv('REDDIT_USER_AGENT')\n",
    ")\n",
    "\n",
    "print(\"✅ Reddit collector initialized!\")"
   ]
  },
  {
   "cell_type": "code",
   "execution_count": null,
   "metadata": {},
   "outputs": [],
   "source": [
    "# Collect sample data\n",
    "df = collector.collect_posts(\n",
    "    subreddit='LosAngeles',\n",
    "    limit=50,\n",
    "    time_filter='week'\n",
    ")\n",
    "\n",
    "print(f\"Collected {len(df)} posts\")\n",
    "df.head()"
   ]
  },
  {
   "cell_type": "markdown",
   "metadata": {},
   "source": [
    "## 2. Data Preprocessing\n",
    "\n",
    "Clean and validate the collected data."
   ]
  },
  {
   "cell_type": "code",
   "execution_count": null,
   "metadata": {},
   "outputs": [],
   "source": [
    "from preprocessing.data_cleaner import DataCleaner\n",
    "from preprocessing.quality_validator import QualityValidator\n",
    "\n",
    "# Clean the data\n",
    "cleaner = DataCleaner()\n",
    "df_clean = cleaner.clean_dataset(df)\n",
    "\n",
    "# Get cleaning report\n",
    "report = cleaner.get_cleaning_report()\n",
    "print(f\"\\n📊 Cleaning Report:\")\n",
    "print(f\"Initial rows: {report['initial_rows']}\")\n",
    "print(f\"Final rows: {report['final_rows']}\")\n",
    "print(f\"Retention rate: {report['retention_rate']:.1f}%\")\n",
    "print(f\"Duplicates removed: {report['duplicates_removed']}\")"
   ]
  },
  {
   "cell_type": "code",
   "execution_count": null,
   "metadata": {},
   "outputs": [],
   "source": [
    "# Validate data quality\n",
    "validator = QualityValidator()\n",
    "validation_results = validator.validate_dataset(df_clean)\n",
    "\n",
    "print(f\"\\n✅ Overall Quality Score: {validation_results['overall_score']:.2f}/100\")\n",
    "print(f\"\\nCompleteness Score: {validation_results['completeness']['score']:.2f}/100\")\n",
    "print(f\"Consistency Score: {validation_results['consistency']['score']:.2f}/100\")\n",
    "print(f\"Content Quality Score: {validation_results['content_quality']['quality_score']:.2f}/100\")"
   ]
  },
  {
   "cell_type": "markdown",
   "metadata": {},
   "source": [
    "## 3. Basic Data Exploration"
   ]
  },
  {
   "cell_type": "code",
   "execution_count": null,
   "metadata": {},
   "outputs": [],
   "source": [
    "# Plot score distribution\n",
    "plt.figure(figsize=(12, 5))\n",
    "\n",
    "plt.subplot(1, 2, 1)\n",
    "plt.hist(df_clean['score'], bins=20, edgecolor='black')\n",
    "plt.xlabel('Post Score')\n",
    "plt.ylabel('Frequency')\n",
    "plt.title('Distribution of Post Scores')\n",
    "\n",
    "plt.subplot(1, 2, 2)\n",
    "plt.hist(df_clean['num_comments'], bins=20, edgecolor='black', color='orange')\n",
    "plt.xlabel('Number of Comments')\n",
    "plt.ylabel('Frequency')\n",
    "plt.title('Distribution of Comment Counts')\n",
    "\n",
    "plt.tight_layout()\n",
    "plt.show()"
   ]
  },
  {
   "cell_type": "code",
   "execution_count": null,
   "metadata": {},
   "outputs": [],
   "source": [
    "# Top authors by post count\n",
    "top_authors = df_clean['author'].value_counts().head(10)\n",
    "\n",
    "plt.figure(figsize=(10, 6))\n",
    "top_authors.plot(kind='barh')\n",
    "plt.xlabel('Number of Posts')\n",
    "plt.ylabel('Author')\n",
    "plt.title('Top 10 Most Active Authors')\n",
    "plt.gca().invert_yaxis()\n",
    "plt.tight_layout()\n",
    "plt.show()"
   ]
  },
  {
   "cell_type": "markdown",
   "metadata": {},
   "source": [
    "## 4. Network Analysis (if you have enough data)\n",
    "\n",
    "Build and analyze interaction networks."
   ]
  },
  {
   "cell_type": "code",
   "execution_count": null,
   "metadata": {},
   "outputs": [],
   "source": [
    "# Save the cleaned data for network analysis\n",
    "output_path = project_root / 'data' / 'processed' / 'sample_data.csv'\n",
    "df_clean.to_csv(output_path, index=False)\n",
    "print(f\"✅ Cleaned data saved to {output_path}\")"
   ]
  },
  {
   "cell_type": "code",
   "execution_count": null,
   "metadata": {},
   "outputs": [],
   "source": [
    "# Note: Network analysis requires more data\n",
    "# Uncomment when you have collected sufficient data\n",
    "\n",
    "# from networks.crisis_network_analyzer import CrisisNetworkAnalyzer\n",
    "\n",
    "# analyzer = CrisisNetworkAnalyzer(str(output_path))\n",
    "# networks = analyzer.build_multi_layer_networks()\n",
    "\n",
    "# for name, network in networks.items():\n",
    "#     print(f\"{name}: {network.number_of_nodes()} nodes, {network.number_of_edges()} edges\")"
   ]
  },
  {
   "cell_type": "markdown",
   "metadata": {},
   "source": [
    "## 5. Next Steps\n",
    "\n",
    "1. **Collect more data**: Use different subreddits and time ranges\n",
    "2. **Search for crisis keywords**: Use `collector.search_posts()` with crisis-specific terms\n",
    "3. **Build networks**: Analyze user interactions and information flow\n",
    "4. **Run LIWC analysis**: Examine cognitive and emotional processes\n",
    "5. **Compare crises**: Analyze patterns across different crisis events\n",
    "\n",
    "For more details, see:\n",
    "- `docs/api_reference.md` - Complete API documentation\n",
    "- `docs/methodology.md` - Research methodology\n",
    "- `README.md` - Project overview"
   ]
  }
 ],
 "metadata": {
  "kernelspec": {
   "display_name": "Python 3",
   "language": "python",
   "name": "python3"
  },
  "language_info": {
   "codemirror_mode": {
    "name": "ipython",
    "version": 3
   },
   "file_extension": ".py",
   "mimetype": "text/x-python",
   "name": "python",
   "nbconvert_exporter": "python",
   "pygments_lexer": "ipython3",
   "version": "3.11.0"
  }
 },
 "nbformat": 4,
 "nbformat_minor": 4
}
